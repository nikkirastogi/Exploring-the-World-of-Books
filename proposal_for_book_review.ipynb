{
 "cells": [
  {
   "cell_type": "markdown",
   "metadata": {},
   "source": [
    "# Exploring the World of Books\n",
    "### Team members: Arun Mathew, Nikki Rastogi, Aquib Hussain"
   ]
  },
  {
   "cell_type": "markdown",
   "metadata": {},
   "source": [
    "# Introduction\n",
    "\n",
    "In a world filled with endless literary choices, it can be challenging to find the next great read. This data project, \"Exploring the World of Books and Reviews,\" is a journey into the vast realm of literature, designed to help book enthusiasts, researchers, and readers discover new insights and trends within the literary landscape.\n",
    "\n",
    "Our dataset contains a wealth of information, encompassing a wide range of books, each a unique treasure waiting to be explored. It includes crucial details such as book IDs, authors, original publication years, titles from csv file and language, number of pages average ratings, and extensive user reviews from Web Scraping. With this data at our fingertips, we are poised to uncover intriguing patterns, preferences, and trends that shape the world of literature.\n",
    "\n",
    "Throughout this project, we will delve into the role of authors, original publication years, ratings and language in influencing a book's reception. We will explore how average ratings and user reviews contribute to a book's reputation and popularity. Whether you're an avid reader seeking new recommendations, a data enthusiast fascinated by book analytics, or an author looking to understand what makes a bestseller, this project offers a unique and data-driven perspective on the world of books and reviews. Join us on this literary journey, and let's explore the stories hidden within the data. \n"
   ]
  },
  {
   "cell_type": "markdown",
   "metadata": {},
   "source": [
    "## Research Questions\n",
    "1. Can we develop a book recommendation system based on the book details such as title, author, publication year and rating?\n",
    "*  This analysis will save time of the client recommending the exact book, according to author ,title and publication which is exactly suitable for them.\n",
    "*  In the real world, this system could be implemented on online bookstores, libraries, providing users with tailored suggestions and potentially boosting sales for publishers, or reading platforms to enhance user experience and engagement.\n",
    "\n",
    "2. Is there a relationship between an author's average book rating and the number of books they have written?   \n",
    "*  The relationship between an author's average book rating and the number of books they have written can reveal intriguing insights. It may indicate whether prolific authors tend to maintain consistent quality across their works or if there's a correlation between the quantity of books and the average rating. Understanding this relationship can be valuable for publishers in making informed decisions about prolific authors.\n",
    "*  Implementing such findings in the real world can influence publishing strategies and guide readers in making informed choices. Additionally, understanding this relationship can influence an author's creative and career decisions, helping them strike a balance between quantity and quality in their literary output.\n",
    "\n",
    "\n",
    "3. Are there any patterns in user ratings depending on authors, with a focus on ratings 1, 2, 3, 4, and 5?\n",
    "* This analysis will recognize patterns that allow us to predict and expect what is coming.\n",
    "* In the real world, this insight can contribute to more effective book marketing, improved author-reader relationships.\n",
    "* In a book seller business if we found a pattern where there is a downfall of books sold we can take preventive measures to avoid business failures."
   ]
  },
  {
   "cell_type": "markdown",
   "metadata": {
    "tags": []
   },
   "source": [
    "## New Feature (using Scikit Library)\n",
    "\n",
    "To address research questions, we will add and utilize a Python feature called \"surprise,\" a powerful library for recommending Good Book. This library provides a range of algorithms and techniques for identifying patterns and relationships within data, enabling us to develop an effective book recommendation system."
   ]
  },
  {
   "cell_type": "markdown",
   "metadata": {},
   "source": [
    "## Data to be Used\n",
    "\n",
    "* 1.Data from this source will be collected in a csv file\n",
    "* Book Details - https://data.world/divyanshj/users-books-dataset/workspace/file?filename=BX-Books.csv\n",
    "\n",
    "* 2.Data from this source will be collected using Web Scraping\n",
    "* Book Details (Language, Pages, Ratings and Review)- https://www.goodreads.com/"
   ]
  },
  {
   "cell_type": "markdown",
   "metadata": {
    "jp-MarkdownHeadingCollapsed": true,
    "tags": []
   },
   "source": [
    "## Approach\n",
    "* <b>Data Understanding and Exploration</b>\n",
    "\n",
    "    Start by understanding the structure of our datasets. Look at the column names, data types, and the first few rows of data.\n",
    "    Identify any missing values and outliers, as they may impact our analysis.\n",
    "    Check for duplicate records, and if present, decide whether to remove or keep them.\n",
    "\n",
    "* <b>Data Cleaning</b> \n",
    "\n",
    "    Handle missing data: Decide how to deal with missing values in different columns. we can either remove rows with missing data or impute them.\n",
    "    Data type conversion: Ensure that the data types of each column are appropriate for the analysis. For instance, convert numeric columns to the appropriate numeric data types.\n",
    "    Remove duplicates: If there are duplicate records, decide whether to keep the first occurrence or drop duplicates.\n",
    "\n",
    "* <b>Exploratory Data Analysis (EDA)</b>\n",
    "\n",
    "    Conduct basic descriptive statistics to summarize the data, including measures of central tendency, dispersion, and data distributions.\n",
    "    Create visualizations such as histograms, box plots, and scatter plots to gain insights into the data.\n",
    "    Explore the relationships between variables. For example, we can look at how \"average_rating\" relates to other factors like \"original_publication_year\" and \"Authors\".\n",
    "\n",
    "* <b>Data Visualization and Analysis</b>\n",
    "\n",
    "    Create visualizations to illustrate patterns and insights discovered in the EDA.\n",
    "    For example, create a histogram or density plot of \"average_rating\" to visualize its distribution.\n"
   ]
  },
  {
   "cell_type": "markdown",
   "metadata": {},
   "source": [
    "## Roles and Resposibility"
   ]
  },
  {
   "cell_type": "markdown",
   "metadata": {},
   "source": [
    "#### Arun Mathew   :\n",
    "#####              * Handle csv file (Data Cleaning and perform Exploratory Data Analysis(EDA))\n",
    "#####              * In Notebook, Abstract, Data Preparation and Prepped Data Review.\n",
    "#### Aquib Hussain :\n",
    "#####              * Handle dataset available on website(check robots.txt) and do web scraping, also perform EDA on that.\n",
    "#####              * In Notebook, Introduction, Conclusions and Prepped Data Review.\n",
    "\n",
    "#### Nikki Rastogi :\n",
    "#####              * Handle both file together( csv and scrapped one) then perform EDA by merging both dataset.\n",
    "#####              * Create methods to apply new feature (using scikit-surprise library)\n",
    "#####              * In Notebook, Investigative Analysis & Results Part (Answers to research questions)\n",
    "\n",
    "##### Each group member works on a separate branch from the main branch and makes commits with their changes. When other two members approve one's commit then only work merge into the main branch,then after a pull request (PR) will be opened, and then others can work on after that step.\n",
    "##### Nikki create the repo and will add the Arun and Aquib github link and give permission to make changes(using fork)."
   ]
  }
 ],
 "metadata": {
  "kernelspec": {
   "display_name": "Python 3 (ipykernel)",
   "language": "python",
   "name": "python3"
  },
  "language_info": {
   "codemirror_mode": {
    "name": "ipython",
    "version": 3
   },
   "file_extension": ".py",
   "mimetype": "text/x-python",
   "name": "python",
   "nbconvert_exporter": "python",
   "pygments_lexer": "ipython3",
   "version": "3.11.5"
  }
 },
 "nbformat": 4,
 "nbformat_minor": 4
}
